{
  "cells": [
    {
      "cell_type": "markdown",
      "metadata": {
        "id": "tVFEVq3OiQbU"
      },
      "source": [
        "# Mixed-Integer Linear Programming Use Case: Automatic Search of Meet-in-the-Middle Preimage Attacks on AES-like Hashing\n",
        "\n",
        "## Problem description\n",
        "\n",
        "---\n",
        "<p align=\"center\"><img src=\"Intro_MitM/00_MITM_AES_Hashing_Short_Program_Page_02.png\" alt=\"MITM_Intro\" width=\"800\"/></p>\n",
        "\n",
        "---\n",
        "<p align=\"center\"><img src=\"Intro_MitM/00_MITM_AES_Hashing_Short_Program_Page_03.png\" alt=\"MITM_Intro\" width=\"800\"/></p>\n",
        "\n",
        "---\n",
        "<p align=\"center\"><img src=\"Intro_MitM/00_MITM_AES_Hashing_Short_Program_Page_04.png\" alt=\"MITM_Intro\" width=\"800\"/></p>\n",
        "\n",
        "---\n",
        "<p align=\"center\"><img src=\"Intro_MitM/00_MITM_AES_Hashing_Short_Program_Page_05.png\" alt=\"MITM_Intro\" width=\"800\"/></p>\n",
        "\n",
        "---\n",
        "<p align=\"center\"><img src=\"Intro_MitM/00_MITM_AES_Hashing_Short_Program_Page_06.png\" alt=\"MITM_Intro\" width=\"800\"/></p>\n",
        "\n",
        "---\n",
        "<p align=\"center\"><img src=\"Intro_MitM/00_MITM_AES_Hashing_Short_Program_Page_07.png\" alt=\"MITM_Intro\" width=\"800\"/></p>\n",
        "\n",
        "---\n",
        "<p align=\"center\"><img src=\"Intro_MitM/00_MITM_AES_Hashing_Short_Program_Page_08.png\" alt=\"MITM_Intro\" width=\"800\"/></p>\n",
        "\n",
        "---"
      ]
    },
    {
      "cell_type": "markdown",
      "metadata": {},
      "source": [
        "## Mathematical optimization \n",
        "\n",
        "Mathematical optimization, which is also known as mathematical programming, is \n",
        "- the *selection* of a *best* element, with regard to some *criterion*, from some set of available alternatives.\n",
        "\n",
        "- a declarative approach where the modeler formulates an optimization problem that captures the key features of a complex decision problem.\n",
        "\n",
        "A mathematical optimization model has five components:\n",
        "\n",
        "* Sets\n",
        "* Parameters\n",
        "\n",
        "* Decision variables\n",
        "* Constraints\n",
        "* Objective function(s)\n",
        "\n",
        "### Mixed-Integer Linear Programming\n",
        "\n",
        "<p align=\"center\"><img src=\"MILP_Intro.png\" alt=\"MILP_Intro\" width=\"700\"/></p>\n",
        "\n",
        "Whereas the *simplex* method is effective for solving *linear programs*, there is no single technique for solving **integer programs**. Instead, a number of procedures have been developed, and the performance of any particular techniques appears to be highly problem-dependent. Methods to date can be classified broadly as following one of three approaches:\n",
        "\n",
        "* enumeration techniques, including the branch-and-bound procedure;\n",
        "\n",
        "* cutting-plane techniques; and\n",
        "\n",
        "* group-theoretic techniques.\n",
        "\n",
        "The **Gurobi Optimizer**:\n",
        "implemented many of these methods, and provides API to call them to solves the mathematical optimization problems using state-of-the-art mathematics and computer science.\n",
        "* C, C++, Java, .NET, Python, MATLAB, R API\n",
        "\n",
        "* Callback, Solution Pool, Multiple Objectives, Multiple Scenarios, Batch Optimization...\n",
        "\n",
        "---"
      ]
    },
    {
      "cell_type": "code",
      "execution_count": 10,
      "metadata": {
        "colab": {
          "base_uri": "https://localhost:8080/"
        },
        "id": "Grmf0oGFG3B6",
        "outputId": "f886ea2e-b95f-40bb-c3fc-54f314c345e3"
      },
      "outputs": [],
      "source": [
        "#%pip install gurobipy"
      ]
    },
    {
      "cell_type": "code",
      "execution_count": 11,
      "metadata": {
        "id": "qCNNNXHoHXg8"
      },
      "outputs": [],
      "source": [
        "import gurobipy as gp\n",
        "from gurobipy import GRB\n",
        "import numpy as np"
      ]
    },
    {
      "cell_type": "code",
      "execution_count": 12,
      "metadata": {},
      "outputs": [
        {
          "data": {
            "text/plain": [
              "'model_4_x_4_7R_int_r4_mat_r1'"
            ]
          },
          "execution_count": 12,
          "metadata": {},
          "output_type": "execute_result"
        }
      ],
      "source": [
        "# Parameters\n",
        "NRow = 4\n",
        "NCol = 4\n",
        "NMat = NRow * NCol\n",
        "N_Br = NRow + 1     # 5\n",
        "N_IO = 2 * NRow     # 8\n",
        "WLastMC = 0 # with last mixcolumn\n",
        "\n",
        "TR = 7   # total round\n",
        "ini_r = 4   # initial round, ini_r in {0,1,2,...,TR-1}\n",
        "mat_r = 1   # meet round, mat_r in {0,1,2,...,TR-1}, ini_r != mat_r\n",
        "F_r = []    # forward\n",
        "B_r = []    # backward\n",
        "if ini_r < mat_r:\n",
        "    F_r = list(range(ini_r, mat_r))\n",
        "    B_r = list(range(mat_r + 1, TR)) + list(range(0, ini_r))\n",
        "else: \n",
        "    B_r = list(range(mat_r + 1, ini_r))\n",
        "    F_r = list(range(ini_r, TR)) + list(range(0, mat_r))\n",
        "\n",
        "modelName = 'model_%d_x_%d_%dR_int_r%d_mat_r%d' % (NRow, NCol, TR, ini_r, mat_r)\n",
        "# Declare and initialize model\n",
        "m = gp.Model(modelName)\n",
        "modelName"
      ]
    },
    {
      "cell_type": "markdown",
      "metadata": {},
      "source": [
        "<p align=\"center\"><img src=\"Intro_MitM/00_MITM_AES_Hashing_Short_Program_Page_09.png\" alt=\"MITM_Intro\" width=\"800\"/></p>\n",
        "\n",
        "---"
      ]
    },
    {
      "cell_type": "markdown",
      "metadata": {},
      "source": [
        "## States\n",
        "\n",
        "$$\\mathrm{SB}_{0} \\xRightarrow{\\mathrm{SR}} \\mathrm{MC}_{0} \\xRightarrow{\\mathrm{MC}} \\mathrm{SB}_{1} \\xRightarrow{\\mathrm{SR}} \\mathrm{MC}_{1} \\xRightarrow{\\mathrm{MC}} \\cdots \\mathrm{SB}_{r-1} \\xRightarrow{\\mathrm{SR}} \\mathrm{MC}_{r-1}$$\n",
        "\n",
        "Decision Variables Byte Order\n",
        "\n",
        "$$\n",
        "S[0,0]\\quad S[0,1]\\quad S[0,2]\\quad S[0,3] \\\\\n",
        "S[1,0]\\quad S[1,1]\\quad S[1,2]\\quad S[1,3] \\\\\n",
        "S[2,0]\\quad S[2,1]\\quad S[2,2]\\quad S[2,3] \\\\\n",
        "S[3,0]\\quad S[3,1]\\quad S[3,2]\\quad S[3,3]\n",
        "$$"
      ]
    },
    {
      "cell_type": "code",
      "execution_count": 13,
      "metadata": {},
      "outputs": [],
      "source": [
        "# Enumeration: (x, y), grey iff x=y=1, white iff x=y=0\n",
        "SB_x = np.ndarray(shape=(TR, NRow, NCol), dtype='object')\n",
        "SB_y = np.ndarray(shape=(TR, NRow, NCol), dtype='object')\n",
        "SB_g = np.ndarray(shape=(TR, NRow, NCol), dtype='object')\n",
        "SB_w = np.ndarray(shape=(TR, NRow, NCol), dtype='object')\n",
        "MC_x = np.ndarray(shape=(TR, NRow, NCol), dtype='object')\n",
        "MC_y = np.ndarray(shape=(TR, NRow, NCol), dtype='object')\n",
        "MC_g = np.ndarray(shape=(TR, NRow, NCol), dtype='object')\n",
        "MC_w = np.ndarray(shape=(TR, NRow, NCol), dtype='object')"
      ]
    },
    {
      "cell_type": "code",
      "execution_count": 14,
      "metadata": {},
      "outputs": [],
      "source": [
        "# SB\n",
        "for ri in range(TR):\n",
        "    for i in range(NRow):\n",
        "        for j in range(NCol):\n",
        "            SB_x[ri, i, j] = m.addVar(vtype=GRB.BINARY, name=\"SB_x\" + ('[%d,%d]' % (i, j)) + \"_r\" + ('[%d]' % ri))\n",
        "            SB_y[ri, i, j] = m.addVar(vtype=GRB.BINARY, name=\"SB_y\" + ('[%d,%d]' % (i, j)) + \"_r\" + ('[%d]' % ri))\n",
        "            SB_g[ri, i, j] = m.addVar(vtype=GRB.BINARY, name=\"SB_g\" + ('[%d,%d]' % (i, j)) + \"_r\" + ('[%d]' % ri))\n",
        "            SB_w[ri, i, j] = m.addVar(vtype=GRB.BINARY, name=\"SB_w\" + ('[%d,%d]' % (i, j)) + \"_r\" + ('[%d]' % ri))"
      ]
    },
    {
      "cell_type": "code",
      "execution_count": 15,
      "metadata": {},
      "outputs": [],
      "source": [
        "# MC and SB point to the same variables, since SR operation simply permutate the cells\n",
        "for ri in range(TR):\n",
        "    for i in range(NRow):\n",
        "        for j in range(NCol):\n",
        "            MC_x[ri, i, j] = SB_x[ri, i, (j + i)%NCol]\n",
        "            MC_y[ri, i, j] = SB_y[ri, i, (j + i)%NCol]\n",
        "            MC_g[ri, i, j] = SB_g[ri, i, (j + i)%NCol]\n",
        "            MC_w[ri, i, j] = SB_w[ri, i, (j + i)%NCol]"
      ]
    },
    {
      "cell_type": "code",
      "execution_count": 16,
      "metadata": {},
      "outputs": [
        {
          "name": "stdout",
          "output_type": "stream",
          "text": [
            "SB_x\n",
            "SB_x[0,0]_r[0], SB_x[0,1]_r[0], SB_x[0,2]_r[0], SB_x[0,3]_r[0], \n",
            "SB_x[1,0]_r[0], SB_x[1,1]_r[0], SB_x[1,2]_r[0], SB_x[1,3]_r[0], \n",
            "SB_x[2,0]_r[0], SB_x[2,1]_r[0], SB_x[2,2]_r[0], SB_x[2,3]_r[0], \n",
            "SB_x[3,0]_r[0], SB_x[3,1]_r[0], SB_x[3,2]_r[0], SB_x[3,3]_r[0], \n",
            "\n",
            "\n",
            "MC_x\n",
            "SB_x[0,0]_r[0], SB_x[0,1]_r[0], SB_x[0,2]_r[0], SB_x[0,3]_r[0], \n",
            "SB_x[1,1]_r[0], SB_x[1,2]_r[0], SB_x[1,3]_r[0], SB_x[1,0]_r[0], \n",
            "SB_x[2,2]_r[0], SB_x[2,3]_r[0], SB_x[2,0]_r[0], SB_x[2,1]_r[0], \n",
            "SB_x[3,3]_r[0], SB_x[3,0]_r[0], SB_x[3,1]_r[0], SB_x[3,2]_r[0], \n",
            "\n",
            "\n"
          ]
        }
      ],
      "source": [
        "m.update()\n",
        "def printStateVarsName(aVars):\n",
        "    nstr = ''\n",
        "    for i in range(NRow):\n",
        "        for j in range(NCol):\n",
        "            nstr += aVars[i,j].VarName + ', '\n",
        "        nstr += \"\\n\"\n",
        "    nstr += \"\\n\"\n",
        "    print(nstr)\n",
        "\n",
        "print(\"SB_x\"); printStateVarsName(SB_x[0]); print(\"MC_x\"); printStateVarsName(MC_x[0])"
      ]
    },
    {
      "cell_type": "code",
      "execution_count": 17,
      "metadata": {},
      "outputs": [],
      "source": [
        "DoF_init_BL = np.ndarray(shape=(NRow, NCol), dtype='object')    # blue\n",
        "DoF_init_RD = np.ndarray(shape=(NRow, NCol), dtype='object')    # red\n",
        "for i in range(NRow):\n",
        "    for j in range(NCol):\n",
        "        DoF_init_BL[i, j] = m.addVar(vtype=GRB.BINARY, name=\"DoF_init_BL\" + ('[%d,%d]' % (i,j)))\n",
        "        DoF_init_RD[i, j] = m.addVar(vtype=GRB.BINARY, name=\"DoF_init_RD\" + ('[%d,%d]' % (i,j)))"
      ]
    },
    {
      "cell_type": "markdown",
      "metadata": {},
      "source": [
        "<p align=\"center\"><img src=\"Intro_MitM/00_MITM_AES_Hashing_Short_Program_Page_10.png\" alt=\"MITM_Intro\" width=\"800\"/></p>\n",
        "\n",
        "---"
      ]
    },
    {
      "cell_type": "code",
      "execution_count": 18,
      "metadata": {},
      "outputs": [],
      "source": [
        "# CD: degree of freedom consumed, x for forward, y for backward\n",
        "CD_x = np.ndarray(shape=(TR, NCol), dtype='object')\n",
        "CD_y = np.ndarray(shape=(TR, NCol), dtype='object')\n",
        "for ri in range(TR):\n",
        "    for j in range(NCol):\n",
        "        CD_x[ri, j] = m.addVar(lb=0, ub=NRow, vtype=GRB.INTEGER, name=\"CD_x_c\" + ('[%d]' % j) + \"_r\" + ('[%d]' % ri))\n",
        "        CD_y[ri, j] = m.addVar(lb=0, ub=NRow, vtype=GRB.INTEGER, name=\"CD_y_c\" + ('[%d]' % j) + \"_r\" + ('[%d]' % ri))\n",
        "\n",
        "# Intermediate values for computations on DoM\n",
        "MT_n = np.empty(shape=(NCol), dtype='object')\n",
        "MT_m = np.empty(shape=(NCol), dtype='object')\n",
        "for j in range(NCol):\n",
        "    MT_n[j] = m.addVar(lb=-NRow, ub=NRow, name=\"MT_n_c\" + ('[%d]' % j))\n",
        "    MT_m[j] = m.addVar(lb=0, ub=NRow, vtype=GRB.INTEGER, name=\"MT_m_c\" + ('[%d]' % j))"
      ]
    },
    {
      "cell_type": "code",
      "execution_count": 19,
      "metadata": {},
      "outputs": [],
      "source": [
        "DoF_BL = m.addVar(lb=1, vtype=GRB.INTEGER, name=\"DoF_BL\")\n",
        "DoF_RD = m.addVar(lb=1, vtype=GRB.INTEGER, name=\"DoF_RD\")\n",
        "DoM = m.addVar(lb=1, vtype=GRB.INTEGER, name=\"DoM\")\n",
        "Obj = m.addVar(lb=1, vtype=GRB.INTEGER, name=\"Obj\")"
      ]
    },
    {
      "cell_type": "code",
      "execution_count": 20,
      "metadata": {},
      "outputs": [],
      "source": [
        "def setObjective():\n",
        "    m.addConstr(DoF_BL - gp.quicksum(DoF_init_BL.flatten()) + gp.quicksum(CD_x.flatten()) == 0)\n",
        "    m.addConstr(DoF_RD - gp.quicksum(DoF_init_RD.flatten()) + gp.quicksum(CD_y.flatten()) == 0)\n",
        "    m.addConstr(DoM - gp.quicksum(MT_m.flatten()) == 0)\n",
        "    m.addConstr(Obj - DoF_BL <= 0)\n",
        "    m.addConstr(Obj - DoF_RD <= 0)\n",
        "    m.addConstr(Obj - DoM <= 0)\n",
        "    m.setObjective(Obj, GRB.MAXIMIZE)"
      ]
    },
    {
      "cell_type": "markdown",
      "metadata": {},
      "source": [
        "<p align=\"center\"><img src=\"Intro_MitM/00_MITM_AES_Hashing_Short_Program_Page_11.png\" alt=\"MITM_Intro\" width=\"800\"/></p>\n",
        "\n",
        "---"
      ]
    },
    {
      "cell_type": "markdown",
      "metadata": {},
      "source": [
        "<p align=\"center\"><img src=\"Intro_MitM/00_MITM_AES_Hashing_Short_Program_Page_12.png\" alt=\"MITM_Intro\" width=\"800\"/></p>\n",
        "\n",
        "---"
      ]
    },
    {
      "cell_type": "code",
      "execution_count": 21,
      "metadata": {},
      "outputs": [],
      "source": [
        "# Define indicator variables\n",
        "# at column level, v==X, w==Y, mu==W\n",
        "SB_X = np.ndarray(shape=(TR, NCol), dtype='object')\n",
        "SB_Y = np.ndarray(shape=(TR, NCol), dtype='object')\n",
        "SB_W = np.ndarray(shape=(TR, NCol), dtype='object')\n",
        "MC_X = np.ndarray(shape=(TR, NCol), dtype='object')\n",
        "MC_Y = np.ndarray(shape=(TR, NCol), dtype='object')\n",
        "MC_W = np.ndarray(shape=(TR, NCol), dtype='object')\n",
        "\n",
        "for ri in range(TR):\n",
        "    for j in range(NCol):\n",
        "        SB_X[ri, j] = m.addVar(vtype=GRB.BINARY, name=\"SB_Xc\" + ('[%d]' % j) + \"_r\" + ('[%d]' % ri))\n",
        "        SB_Y[ri, j] = m.addVar(vtype=GRB.BINARY, name=\"SB_Yc\" + ('[%d]' % j) + \"_r\" + ('[%d]' % ri))\n",
        "        SB_W[ri, j] = m.addVar(vtype=GRB.BINARY, name=\"SB_Wc\" + ('[%d]' % j) + \"_r\" + ('[%d]' % ri))\n",
        "        MC_X[ri, j] = m.addVar(vtype=GRB.BINARY, name=\"MC_Xc\" + ('[%d]' % j) + \"_r\" + ('[%d]' % ri))\n",
        "        MC_Y[ri, j] = m.addVar(vtype=GRB.BINARY, name=\"MC_Yc\" + ('[%d]' % j) + \"_r\" + ('[%d]' % ri))\n",
        "        MC_W[ri, j] = m.addVar(vtype=GRB.BINARY, name=\"MC_Wc\" + ('[%d]' % j) + \"_r\" + ('[%d]' % ri))\n",
        "\n",
        "for ri in range(TR):\n",
        "    for i in range(NRow):\n",
        "        for j in range(NCol):\n",
        "            m.addConstr(SB_g[ri, i, j] == gp.and_(SB_x[ri, i, j], SB_y[ri, i, j]))  # grey cells, and(x, y)\n",
        "            m.addConstr(SB_w[ri, i, j] + SB_x[ri, i, j] + SB_y[ri, i, j] - SB_g[ri, i, j] == 1)    # white cells\n",
        "\n",
        "for ri in range(TR):\n",
        "    for j in range(NCol):\n",
        "        m.addConstr(SB_X[ri, j] == gp.min_(SB_x[ri, : ,j].tolist()))    # if all x are 1 (blue or grey, no white nor red), X is given 1\n",
        "        m.addConstr(SB_Y[ri, j] == gp.min_(SB_y[ri, : ,j].tolist()))    # if all y are 1 (red or grey, no white nor blue), Y is given 1\n",
        "        m.addConstr(SB_W[ri, j] == gp.max_(SB_w[ri, : ,j].tolist()))    # if one is white, then whole column white\n",
        "        m.addConstr(MC_X[ri, j] == gp.min_(MC_x[ri, : ,j].tolist()))\n",
        "        m.addConstr(MC_Y[ri, j] == gp.min_(MC_y[ri, : ,j].tolist()))\n",
        "        m.addConstr(MC_W[ri, j] == gp.max_(MC_w[ri, : ,j].tolist()))"
      ]
    },
    {
      "cell_type": "code",
      "execution_count": 39,
      "metadata": {},
      "outputs": [
        {
          "data": {
            "text/plain": [
              "numpy.ndarray"
            ]
          },
          "execution_count": 39,
          "metadata": {},
          "output_type": "execute_result"
        }
      ],
      "source": [
        "type(SB_x[0, : ,0])"
      ]
    },
    {
      "cell_type": "markdown",
      "metadata": {},
      "source": [
        "### General Constraints\n",
        "\n",
        "$$\n",
        "g_i = \\mathrm{and}(x_i, y_i) \\text{ can also be manually formulated as } \n",
        "\\begin{cases}\n",
        "x_i + y_i - g_i \\leq 1 \\\\\n",
        "x_i + y_i - 2 g_i \\geq 0\n",
        "\\end{cases}\n",
        "$$\n",
        "More generally\n",
        "$$\n",
        "g = \\mathrm{and}(x_1, x_2, \\ldots, x_m) \\text{ can also be manually formulated as } \n",
        "\\begin{cases}\n",
        "\\sum_{i=1}^{m}x_i - g \\leq m - 1 \\\\\n",
        "\\sum_{i=1}^{m}x_i - m \\cdot g \\geq 0\n",
        "\\end{cases}\n",
        "$$\n",
        "\n",
        "For binary arrays\n",
        "$$\n",
        "\\bold{w} = \\max_{i=0}^{\\mathrm{N_{Row}}-1}(w_i^I) = \\mathrm{or}_{i=0}^{\\mathrm{N_{Row}}-1}(w_i^I)\n",
        "\\text{ can also be manually formulated by linear inequalities }\n",
        "\\begin{cases}\n",
        "(\\sum_{i=0}^{\\mathrm{N_{Row}}-1} w_i^I) - \\mathrm{N_{Row}} \\cdot \\bold{w} \\leq 0 \\\\\n",
        "(\\sum_{i=0}^{\\mathrm{N_{Row}}-1} w_i^I) - \\bold{w} \\geq 0\n",
        "\\end{cases}\n",
        "$$\n",
        "\n",
        "$$\n",
        "\\bold{x} = \\min_{i=0}^{\\mathrm{N_{Row}}-1}(x_i^I) = \\mathrm{and}_{i=0}^{\\mathrm{N_{Row}}-1}(x_i^I) \n",
        "\\text{ can also be manually formulated by linear inequalities }\n",
        "\\begin{cases}\n",
        "(\\sum_{i=0}^{\\mathrm{N_{Row}}-1} x_i^I) - \\mathrm{N_{Row}} \\cdot \\bold{x} \\geq 0 \\\\\n",
        "(\\sum_{i=0}^{\\mathrm{N_{Row}}-1} x_i^I) - \\bold{x} \\leq \\mathrm{N_{Row}} - 1\n",
        "\\end{cases}\n",
        "$$\n",
        "\n",
        "\n",
        "Gurobi API supports some fundamental constraints of MIP.\n",
        "* simple constraints (max, min, abs, and, or, norm, indicator, piecewise-linear)\n",
        "* function constraints (polynomial, $y = e^x$, $y=a^x$, $y=ln(x)$, $y=x^a$, ...)\n"
      ]
    },
    {
      "cell_type": "code",
      "execution_count": 22,
      "metadata": {},
      "outputs": [],
      "source": [
        "def MC_RULE(\n",
        "    MC_I_Col_x,\n",
        "    MC_I_Col_y,\n",
        "    MC_I_Col_X,\n",
        "    MC_I_Col_Y,\n",
        "    MC_I_Col_W,\n",
        "    MC_O_Col_x,\n",
        "    MC_O_Col_y,\n",
        "    CD_Col_x,\n",
        "    CD_Col_y):\n",
        "    # Introduce 0-1 indicator variables for each input column\n",
        "    # Constraints for defining attribute-propagation through MC\n",
        "    m.addConstr(gp.quicksum(MC_O_Col_x) + NRow * MC_I_Col_W <= NRow)\n",
        "    m.addConstr(gp.quicksum(MC_O_Col_x) + gp.quicksum(MC_I_Col_x) - N_Br * MC_I_Col_X <= N_IO - N_Br)\n",
        "    m.addConstr(gp.quicksum(MC_O_Col_x) + gp.quicksum(MC_I_Col_x) - N_IO * MC_I_Col_X >= 0)\n",
        "    \n",
        "    m.addConstr(gp.quicksum(MC_O_Col_y) + NRow * MC_I_Col_W <= NRow)\n",
        "    m.addConstr(gp.quicksum(MC_O_Col_y) + gp.quicksum(MC_I_Col_y) - N_Br * MC_I_Col_Y <= N_IO - N_Br)\n",
        "    m.addConstr(gp.quicksum(MC_O_Col_y) + gp.quicksum(MC_I_Col_y) - N_IO * MC_I_Col_Y >= 0)\n",
        "    # Constraints for canceling impact by consuming DoF\n",
        "    m.addConstr(gp.quicksum(MC_O_Col_x) - NRow * MC_I_Col_X - CD_Col_y == 0)\n",
        "    m.addConstr(gp.quicksum(MC_O_Col_y) - NRow * MC_I_Col_Y - CD_Col_x == 0)"
      ]
    },
    {
      "cell_type": "markdown",
      "metadata": {},
      "source": [
        "$\\mathrm{N_{IO}} - \\sum_{i=0}^{\\mathrm{N_{Row}}-1}{(x_i^O + x_i^I)}$ equals the number of active cells impacted by RED\n",
        "\n",
        "* intrinsic bound\n",
        "    $$0 \\leq \\sum_{i=0}^{\\mathrm{N_{Row}}-1}{(x_i^O + x_i^I)} \\leq \\mathrm{N_{IO}}$$\n",
        "\n",
        "* If $\\bold{x} = 1$:\n",
        "    $$\\forall x_i^O = 1$$\n",
        "    $$\\sum_{i=0}^{\\mathrm{N_{Row}}-1}{(x_i^O + x_i^I)} = \\mathrm{N_{IO}}$$\n",
        "    $$\\boxed{\\mathrm{N_{IO}} \\leq} \\sum_{i=0}^{\\mathrm{N_{Row}}-1}{(x_i^O + x_i^I)} \\leq \\mathrm{N_{IO}}$$\n",
        "\n",
        "* If $\\bold{x} = 0$:\n",
        "    $$\\mathrm{N_{IO}} - \\sum_{i=0}^{\\mathrm{N_{Row}}-1}{(x_i^O + x_i^I)} \\geq \\mathrm{N_{Br}}$$\n",
        "    $$\\sum_{i=0}^{\\mathrm{N_{Row}}-1}{(x_i^O + x_i^I)} \\boxed{\\leq \\mathrm{N_{IO}} - \\mathrm{N_{Br}}}$$\n",
        "\n",
        "* Formulated using **constraint feasibility**\n",
        "    $$\\mathrm{N_{IO}} \\boxed{- B_1 \\cdot (1 -  \\bold{x})} \\leq \\sum_{i=0}^{\\mathrm{N_{Row}}-1}{(x_i^O + x_i^I)} \\leq \\mathrm{N_{IO}} - \\mathrm{N_{Br}} \\boxed{+ B_2 \\cdot \\bold{x}} $$\n",
        "\n",
        "* For any $\\bold{x}$\n",
        "    $$ \\boxed{B_1 = \\mathrm{N_{IO}}}, \\quad \\boxed{B_2 = \\mathrm{N_{Br}}}$$\n",
        "    $$\\mathrm{N_{IO}} \\cdot \\bold{x} \\leq \\sum_{i=0}^{\\mathrm{N_{Row}}-1}{(x_i^O + x_i^I)} \\leq \\mathrm{N_{IO}} - \\mathrm{N_{Br}} + \\mathrm{N_{Br}} \\cdot \\bold{x} $$\n"
      ]
    },
    {
      "cell_type": "markdown",
      "metadata": {},
      "source": [
        "***Remark: Logical Constraints***\n",
        "\n",
        "* **Constraint Feasibility**\n",
        "\n",
        "Possibly the simplest logical question that can be asked in mathematical programming is whether a given choice of the decision variables satisfies a constraint. More precisely, *when* is the general constraint\n",
        "$$\n",
        "\\rightarrow f(x_1, x_2, \\ldots, x_n) \\leq b\n",
        "$$\n",
        "satisfied?\n",
        "\n",
        "We introduce a binary variable $y$ with the interpretation:\n",
        "$$\n",
        "y = \n",
        " \\begin{cases} 0 & \\text{ if the constraint is known to be satisfied} \\\\\n",
        " 1 & \\text{ otherwise }\n",
        " \\end{cases}\n",
        "$$\n",
        "and write\n",
        "$$\n",
        "\\boxed{f(x_1, x_2, \\ldots, x_n) - By \\leq b},\n",
        "$$\n",
        "where the constant $B$ is chosen to be **large enough** so that the constraint always is satisfied if $y=1$; that is $f(x_1, x_2, \\ldots, x_n) \\leq b + B$ for every possible choice of the decision variables $x_1, x_2,\\ldots, x_n$ at our disposal. Whenever $y=0$ gives a feasible solution to constraint $f(\\cdot) \\leq b$, we know that $f(\\cdot) - By \\leq b$ must be satisfied.\n",
        "\n",
        "In practice, it is usually very easy to determine a large number to serve as $B$, although generally it is best to use the smallest possible value of $B$ in order to avoid numerical difficulties during computations.\n",
        "\n",
        "Similarly, for \n",
        "$$\n",
        "f(x_1, x_2, \\ldots, x_n) \\geq b,\n",
        "$$\n",
        "we write\n",
        "write\n",
        "$$\n",
        "\\boxed{f(x_1, x_2, \\ldots, x_n) + By \\geq b},\n",
        "$$\n",
        "where the constant $B$ is chosen to be **large enough** so that the constraint always is satisfied if $y=1$.\n"
      ]
    },
    {
      "cell_type": "markdown",
      "metadata": {},
      "source": [
        "<p align=\"center\"><img src=\"Intro_MitM/00_MITM_AES_Hashing_Short_Program_Page_14.png\" alt=\"MITM_Intro\" width=\"800\"/></p>\n",
        "\n",
        "---"
      ]
    },
    {
      "cell_type": "code",
      "execution_count": 23,
      "metadata": {},
      "outputs": [],
      "source": [
        "def Match_RULE(\n",
        "    MC_I_Col_x,\n",
        "    MC_I_Col_y,\n",
        "    MC_I_Col_g,\n",
        "    MC_O_Col_x,\n",
        "    MC_O_Col_y,\n",
        "    MC_O_Col_g,\n",
        "    MT_Col_n,\n",
        "    MT_Col_m):\n",
        "    m.addConstr(MT_Col_n == \n",
        "        gp.quicksum(MC_I_Col_x) + gp.quicksum(MC_I_Col_y) - gp.quicksum(MC_I_Col_g) + \n",
        "        gp.quicksum(MC_O_Col_x) + gp.quicksum(MC_O_Col_y) - gp.quicksum(MC_O_Col_g) - NRow)\n",
        "    m.addConstr(MT_Col_m == gp.max_(MT_Col_n, 0))"
      ]
    },
    {
      "cell_type": "code",
      "execution_count": 24,
      "metadata": {},
      "outputs": [],
      "source": [
        "def addConstrs_Start_Round():\n",
        "    # Starting round do not allow unknown\n",
        "    for i in range(NRow):\n",
        "        for j in range(NCol):\n",
        "            m.addConstr(SB_x[ini_r, i, j] + SB_y[ini_r, i, j] >= 1)\n",
        "            m.addConstr(DoF_init_BL[i, j] + SB_y[ini_r, i, j] == 1)\n",
        "            m.addConstr(DoF_init_RD[i, j] + SB_x[ini_r, i, j] == 1)"
      ]
    },
    {
      "cell_type": "code",
      "execution_count": 25,
      "metadata": {},
      "outputs": [],
      "source": [
        "def addConstrs_Inter_Round(ri):\n",
        "    if WLastMC == 0 and ri == TR - 1:\n",
        "        for j in range(NCol):\n",
        "            m.addConstr(CD_x[ri,j] == 0)\n",
        "            m.addConstr(CD_y[ri,j] == 0)\n",
        "            for i in range(NRow):\n",
        "                m.addConstr(MC_x[ri, i, j] - SB_x[(ri + 1) % TR, i, j] == 0)\n",
        "                m.addConstr(MC_y[ri, i, j] - SB_y[(ri + 1) % TR, i, j] == 0)\n",
        "    elif ri in F_r:\n",
        "        for ci in range(NCol):\n",
        "            MC_RULE(\n",
        "                MC_x[ri, :, ci],\n",
        "                MC_y[ri, :, ci],\n",
        "                MC_X[ri, ci],\n",
        "                MC_Y[ri, ci],\n",
        "                MC_W[ri, ci],\n",
        "                SB_x[(ri + 1) % TR, :, ci],\n",
        "                SB_y[(ri + 1) % TR, :, ci],\n",
        "                CD_x[ri,ci],\n",
        "                CD_y[ri,ci]\n",
        "            )\n",
        "    elif ri in B_r:\n",
        "        for ci in range(NCol):\n",
        "            MC_RULE(\n",
        "                SB_x[(ri + 1) % TR, :, ci],\n",
        "                SB_y[(ri + 1) % TR, :, ci],\n",
        "                SB_X[(ri + 1) % TR, ci],\n",
        "                SB_Y[(ri + 1) % TR, ci],\n",
        "                SB_W[(ri + 1) % TR, ci],\n",
        "                MC_x[ri, :, ci],\n",
        "                MC_y[ri, :, ci],\n",
        "                CD_x[ri,ci],\n",
        "                CD_y[ri,ci]\n",
        "            )\n",
        "    else:\n",
        "        print('Should not reach here: addConstrs_Inter_Round():: ri = %d' % ri)\n"
      ]
    },
    {
      "cell_type": "code",
      "execution_count": 26,
      "metadata": {},
      "outputs": [],
      "source": [
        "def addConstrs_Match_Round():\n",
        "    if WLastMC == 0 and mat_r == TR - 1:\n",
        "        MT_w = np.ndarray(shape=(NRow, NCol), dtype='object')\n",
        "        for i in range(NRow):\n",
        "            for j in range(NCol):\n",
        "                MT_w[i, j] = m.addVar(vtype=GRB.BINARY, name=\"MT_w\" + ('[%d,%d]' % (i, j)))\n",
        "                m.addConstr(MT_w[i, j] == gp.or_(MC_w[mat_r, i, j], SB_w[(mat_r + 1)%TR, i, j]))\n",
        "        for j in range(NCol):\n",
        "            m.addConstr(MT_m[j] + gp.quicksum(MT_w[:, j]) == NRow)\n",
        "            m.addConstr(CD_x[mat_r, j] == 0)\n",
        "            m.addConstr(CD_y[mat_r, j] == 0)\n",
        "    else:\n",
        "        for ci in range(NCol):\n",
        "            Match_RULE(\n",
        "                MC_x[mat_r, :, ci],\n",
        "                MC_y[mat_r, :, ci],\n",
        "                MC_g[mat_r, :, ci],\n",
        "                SB_x[(mat_r + 1) % TR, :, ci],\n",
        "                SB_y[(mat_r + 1) % TR, :, ci],\n",
        "                SB_g[(mat_r + 1) % TR, :, ci],\n",
        "                MT_n[ci],\n",
        "                MT_m[ci]\n",
        "            )\n",
        "            m.addConstr(CD_x[mat_r, ci] == 0)\n",
        "            m.addConstr(CD_y[mat_r, ci] == 0)"
      ]
    },
    {
      "cell_type": "code",
      "execution_count": 27,
      "metadata": {},
      "outputs": [],
      "source": [
        "setObjective()\n",
        "for ri in range(TR):\n",
        "    if ri == ini_r:\n",
        "        addConstrs_Start_Round()\n",
        "    if ri == mat_r:\n",
        "        addConstrs_Match_Round()\n",
        "    else:\n",
        "        addConstrs_Inter_Round(ri)\n",
        "\n",
        "m.write(m.modelName + '.lp' )"
      ]
    },
    {
      "cell_type": "code",
      "execution_count": 28,
      "metadata": {},
      "outputs": [],
      "source": [
        "def writeSol():\n",
        "    if m.SolCount > 0:\n",
        "        if m.getParamInfo(GRB.Param.PoolSearchMode)[2] > 0:\n",
        "            gv = m.getVars()\n",
        "            names = m.getAttr('VarName', gv)\n",
        "            for i in range(m.SolCount):\n",
        "                m.params.SolutionNumber = i\n",
        "                xn = m.getAttr('Xn', gv)\n",
        "                lines = [\"{} {}\".format(v1, v2) for v1, v2 in zip(names, xn)]\n",
        "                with open('{}_{}.sol'.format(m.modelName, i), 'w') as f:\n",
        "                    f.write(\"# Solution for model {}\\n\".format(m.modelName))\n",
        "                    f.write(\"# Objective value = {}\\n\".format(m.PoolObjVal))\n",
        "                    f.write(\"\\n\".join(lines))\n",
        "        else:\n",
        "            m.write(m.modelName + '.sol')\n",
        "    else:\n",
        "        print('infeasible')"
      ]
    },
    {
      "cell_type": "code",
      "execution_count": 29,
      "metadata": {},
      "outputs": [
        {
          "name": "stdout",
          "output_type": "stream",
          "text": [
            "Gurobi Optimizer version 9.5.2 build v9.5.2rc0 (mac64[x86])\n",
            "Thread count: 10 physical cores, 20 logical processors, using up to 20 threads\n",
            "Optimize a model with 378 rows, 716 columns and 1985 nonzeros\n",
            "Model fingerprint: 0x1037c3d9\n",
            "Model has 284 general constraints\n",
            "Variable types: 4 continuous, 712 integer (648 binary)\n",
            "Coefficient statistics:\n",
            "  Matrix range     [1e+00, 8e+00]\n",
            "  Objective range  [1e+00, 1e+00]\n",
            "  Bounds range     [1e+00, 4e+00]\n",
            "  RHS range        [1e+00, 4e+00]\n",
            "Presolve added 245 rows and 0 columns\n",
            "Presolve removed 0 rows and 291 columns\n",
            "Presolve time: 0.02s\n",
            "Presolved: 623 rows, 425 columns, 2239 nonzeros\n",
            "Variable types: 0 continuous, 425 integer (376 binary)\n",
            "\n",
            "Root relaxation: objective 8.000000e+00, 469 iterations, 0.01 seconds (0.01 work units)\n",
            "\n",
            "    Nodes    |    Current Node    |     Objective Bounds      |     Work\n",
            " Expl Unexpl |  Obj  Depth IntInf | Incumbent    BestBd   Gap | It/Node Time\n",
            "\n",
            "     0     0    8.00000    0  132          -    8.00000      -     -    0s\n",
            "     0     0    7.97059    0  201          -    7.97059      -     -    0s\n",
            "     0     0    7.83333    0  257          -    7.83333      -     -    0s\n",
            "     0     0    7.00000    0   67          -    7.00000      -     -    0s\n",
            "     0     0    7.00000    0   94          -    7.00000      -     -    0s\n",
            "     0     0    7.00000    0  215          -    7.00000      -     -    0s\n",
            "     0     0    7.00000    0  195          -    7.00000      -     -    0s\n",
            "     0     0    7.00000    0  152          -    7.00000      -     -    0s\n",
            "     0     0    7.00000    0  122          -    7.00000      -     -    0s\n",
            "     0     2    7.00000    0   83          -    7.00000      -     -    0s\n",
            "H  491   307                       1.0000000    7.00000   600%  99.3    0s\n",
            "* 7261  1261              32       2.0000000    4.71429   136%   8.0    3s\n",
            "\n",
            "Explored 9420 nodes (487857 simplex iterations) in 4.34 seconds (5.48 work units)\n",
            "Thread count was 20 (of 20 available processors)\n",
            "\n",
            "Solution count 2: 2 1 \n",
            "\n",
            "Optimal solution found (tolerance 1.00e-04)\n",
            "Best objective 2.000000000000e+00, best bound 2.000000000000e+00, gap 0.0000%\n"
          ]
        }
      ],
      "source": [
        "#m.setParam(GRB.Param.PoolSearchMode, 2)\n",
        "#m.setParam(GRB.Param.PoolSolutions,  5)\n",
        "#m.setParam(GRB.Param.Threads, 8)\n",
        "#m.setParam(GRB.Param.SolFiles, modelName)\n",
        "\n",
        "m.optimize()\n",
        "writeSol()"
      ]
    },
    {
      "cell_type": "code",
      "execution_count": 30,
      "metadata": {},
      "outputs": [],
      "source": [
        "def drawSol(outfile=None):\n",
        "    if outfile == None:\n",
        "        outfile = m.modelName + '.sol'\n",
        "    solFile = open(outfile, 'r')\n",
        "    Sol = dict()\n",
        "    for line in solFile:\n",
        "        if line[0] != '#':\n",
        "            temp = line\n",
        "            temp = temp.split()\n",
        "            Sol[temp[0]] = round(float(temp[1]))\n",
        "    SB_x_v = np.ndarray(shape=(TR, NRow, NCol), dtype='int')\n",
        "    SB_y_v = np.ndarray(shape=(TR, NRow, NCol), dtype='int')\n",
        "    MC_x_v = np.ndarray(shape=(TR, NRow, NCol), dtype='int')\n",
        "    MC_y_v = np.ndarray(shape=(TR, NRow, NCol), dtype='int')\n",
        "    DoF_init_BL_v = np.ndarray(shape=(NRow, NCol), dtype='int')\n",
        "    DoF_init_RD_v = np.ndarray(shape=(NRow, NCol), dtype='int')\n",
        "    CD_x_v = np.ndarray(shape=(TR, NCol), dtype='int')\n",
        "    CD_y_v = np.ndarray(shape=(TR, NCol), dtype='int')\n",
        "    for ri in range(TR):\n",
        "        for i in range(NRow):\n",
        "            for j in range(NCol):\n",
        "                SB_x_v[ri, i, j] = Sol[\"SB_x\" + ('[%d,%d]' % (i, j)) + \"_r\" + ('[%d]' % ri)]\n",
        "                SB_y_v[ri, i, j] = Sol[\"SB_y\" + ('[%d,%d]' % (i, j)) + \"_r\" + ('[%d]' % ri)]\n",
        "    for ri in range(TR):\n",
        "        for i in range(NRow):\n",
        "            for j in range(NCol):\n",
        "                MC_x_v[ri, i, j] = SB_x_v[ri, i, (j + i)%NCol]\n",
        "                MC_y_v[ri, i, j] = SB_y_v[ri, i, (j + i)%NCol]\n",
        "    for i in range(NRow):\n",
        "        for j in range(NCol):\n",
        "            DoF_init_BL_v[i, j] = Sol[\"DoF_init_BL\" + ('[%d,%d]' % (i,j))]\n",
        "            DoF_init_RD_v[i, j] = Sol[\"DoF_init_RD\" + ('[%d,%d]' % (i,j))]\n",
        "    for ri in range(TR):\n",
        "        for j in range(NCol):\n",
        "            CD_x_v[ri, j] = Sol[\"CD_x_c\" + ('[%d]' % j) + \"_r\" + ('[%d]' % ri)]\n",
        "            CD_y_v[ri, j] = Sol[\"CD_y_c\" + ('[%d]' % j) + \"_r\" + ('[%d]' % ri)]\n",
        "    DoF_BL_v = Sol[\"DoF_BL\"]\n",
        "    DoF_RD_v = Sol[\"DoF_RD\"]\n",
        "    DoM_v = Sol[\"DoM\"]\n",
        "\n",
        "    CM = np.ndarray(shape=(2, 2),dtype='object')\n",
        "    CM[0, 0] = '\\\\fill[\\\\UW]'\n",
        "    CM[0, 1] = '\\\\fill[\\\\BW]'\n",
        "    CM[1, 0] = '\\\\fill[\\\\FW]'\n",
        "    CM[1, 1] = '\\\\fill[\\\\CW]'\n",
        "    if NRow == 4:\n",
        "        HO = NRow\n",
        "        WO = NCol\n",
        "    else:\n",
        "        HO = NRow\n",
        "        WO = NCol // 2\n",
        "    ini_d1 = 0\n",
        "    ini_d2 = 0\n",
        "    for i in range(NRow):\n",
        "        for j in range(NCol):\n",
        "            ini_d1 += DoF_init_BL_v[i,j]\n",
        "            ini_d2 += DoF_init_RD_v[i,j]\n",
        "    fid = open(outfile + '.tex', 'w')\n",
        "    fid.write(\n",
        "        '\\\\documentclass{standalone}' + '\\n'\n",
        "        '\\\\usepackage[usenames,dvipsnames]{xcolor}' + '\\n'\n",
        "        '\\\\usepackage{amsmath,amssymb,mathtools}' + '\\n'\n",
        "        '\\\\usepackage{tikz,calc,pgffor}' + '\\n'\n",
        "        '\\\\usepackage{xspace}' + '\\n'\n",
        "        '\\\\usetikzlibrary{crypto.symbols,patterns,calc}' + '\\n'\n",
        "        '\\\\tikzset{shadows=no}' + '\\n'\n",
        "        '\\\\input{macro}' + '\\n')\n",
        "    fid.write('\\n\\n')\n",
        "    fid.write(\n",
        "        '\\\\begin{document}' + '\\n' +\n",
        "        '\\\\begin{tikzpicture}[scale=0.2, every node/.style={font=\\\\boldmath\\\\bf}]' + '\\n'\n",
        "\t    '\\\\everymath{\\\\scriptstyle}' + '\\n'\n",
        "\t    '\\\\tikzset{edge/.style=->, >=stealth, arrow head=8pt, thick};' + '\\n')\n",
        "    fid.write('\\n\\n')\n",
        "\n",
        "    for r in range(TR):\n",
        "        CD_BL = 0\n",
        "        CD_RD = 0\n",
        "        for i in range(NCol):\n",
        "            CD_BL += CD_x_v[r, i]\n",
        "            CD_RD += CD_y_v[r, i]\n",
        "        O = 0\n",
        "        ## SB\n",
        "        fid.write('\\\\begin{scope}[yshift =' + str(- r * (NRow + HO))+' cm, xshift =' + str(O * (NCol + WO))+' cm]'+'\\n')\n",
        "        for i in range(NRow):\n",
        "            row = NRow - 1 - i\n",
        "            for j in range(NCol):\n",
        "                col = j\n",
        "                fid.write(CM[SB_x_v[r,i,j], SB_y_v[r,i,j]] + ' ('+str(col)+','+str(row)+') rectangle +(1,1);'+'\\n')\n",
        "        fid.write('\\\\draw (0,0) rectangle (' + str(NCol) + ',' + str(NRow) + ');' + '\\n')\n",
        "        for i in range(1, NRow):\n",
        "            fid.write('\\\\draw (' + str(0) + ',' + str(i) + ') rectangle (' + str(NCol) + ',' + str(0) + ');' + '\\n')\n",
        "        for i in range(1, NCol):\n",
        "            fid.write('\\\\draw (' + str(i) + ',' + str(0) + ') rectangle (' + str(0) + ',' + str(NRow) + ');' + '\\n')\n",
        "        fid.write('\\\\path (' + str(NCol//2) + ',' + str(NRow + 0.5) + ') node {\\\\scriptsize$\\\\SB^' + str(r) + '$};'+'\\n')\n",
        "        if r in B_r:\n",
        "            fid.write('\\\\draw[edge, <-] (' + str(NCol) + ',' + str(NRow//2) + ') -- node[above] {\\\\tiny SB} node[below] {\\\\tiny SR} +(' + str(WO) + ',' + '0);' + '\\n')\n",
        "        else:\n",
        "            fid.write('\\\\draw[edge, ->] (' + str(NCol) + ',' + str(NRow//2) + ') -- node[above] {\\\\tiny SB} node[below] {\\\\tiny SR} +(' + str(WO) + ',' + '0);' + '\\n')\n",
        "        if r == ini_r:\n",
        "            fid.write('\\\\path (' + str(NCol//2) + ',' + str(-0.8) + ') node {\\\\scriptsize$(+' + str(ini_d1) + '~\\\\DoFF,~+' + str(ini_d2) + '~\\\\DoFB)$};'+'\\n')\n",
        "            fid.write('\\\\path (' + str(-2) + ',' + str(0.8) + ') node {\\\\scriptsize$\\\\StENC$};'+'\\n')\n",
        "        fid.write('\\n'+'\\\\end{scope}'+'\\n')\n",
        "        fid.write('\\n\\n')\n",
        "\n",
        "        O = O + 1\n",
        "        ## MC\n",
        "        fid.write('\\\\begin{scope}[yshift =' + str(- r * (NRow + HO))+' cm, xshift =' +str(O * (NCol + WO))+' cm]'+'\\n')\n",
        "        for i in range(NRow):\n",
        "            row = NRow - 1 - i\n",
        "            for j in range(NCol):\n",
        "                col = j\n",
        "                fid.write(CM[MC_x_v[r,i,j], MC_y_v[r,i,j]] + ' ('+str(col)+','+str(row)+') rectangle +(1,1);'+'\\n')\n",
        "        fid.write('\\\\draw (0,0) rectangle (' + str(NCol) + ',' + str(NRow) + ');' + '\\n')\n",
        "        for i in range(1, NRow):\n",
        "            fid.write('\\\\draw (' + str(0) + ',' + str(i) + ') rectangle (' + str(NCol) + ',' + str(0) + ');' + '\\n')\n",
        "        for i in range(1, NCol):\n",
        "            fid.write('\\\\draw (' + str(i) + ',' + str(0) + ') rectangle (' + str(0) + ',' + str(NRow) + ');' + '\\n')\n",
        "        fid.write('\\\\path (' + str(NCol//2) + ',' + str(NRow + 0.5) + ') node {\\\\scriptsize$\\\\MC^' + str(r) + '$};'+'\\n')\n",
        "        op = 'MC'\n",
        "        if r == TR - 1 and WLastMC == 0:\n",
        "            op = 'I'\n",
        "        if r in B_r:\n",
        "            fid.write('\\\\draw[edge, <-] (' + str(NCol) + ',' + str(NRow//2) + ') -- node[above] {\\\\tiny ' + op + '} +(' + str(WO) + ',' + '0);' + '\\n')\n",
        "        if r in F_r:\n",
        "            fid.write('\\\\draw[edge, ->] (' + str(NCol) + ',' + str(NRow//2) + ') -- node[above] {\\\\tiny ' + op + '} +(' + str(WO) + ',' + '0);' + '\\n')\n",
        "        if r == mat_r:\n",
        "            fid.write('\\\\draw[edge, -] (' + str(NCol) + ',' + str(NRow//2) + ') -- node[above] {\\\\tiny ' + op + '} +(' + str(WO) + ',' + '0);' + '\\n')\n",
        "            fid.write('\\\\draw[edge, ->] (' + str(NCol) + ',' + str(NRow//2) + ') --  +(' + str(WO//2) + ',' + '0);' + '\\n')\n",
        "            fid.write('\\\\draw[edge, ->] (' + str(NCol + WO) + ',' + str(NRow//2) + ') --  +(' + str(-WO//2) + ',' + '0);' + '\\n')\n",
        "    \n",
        "            fid.write('\\\\path (' + str(NCol + WO//2) + ',' + str(-0.8) + ') node {\\\\scriptsize Match};' + '\\n')\n",
        "            fid.write('\\\\path (' + str(-2) + ',' + str(0.1) + ') node {\\\\scriptsize$\\\\EndFwd$};' + '\\n')\n",
        "            fid.write('\\\\path (' + str(NCol + WO + NCol + 2) + ',' + str(0.1) + ') node {\\\\scriptsize$\\\\EndBwd$};' + '\\n')\n",
        "        else:\n",
        "            fid.write('\\\\path (' + str((NCol + WO) - WO//2) + ',' + str(-0.8) + ') node {\\\\scriptsize$ (-' + str(CD_BL) + '~\\\\DoFF,~-' + str(CD_RD) + '~\\\\DoFB)$};'+'\\n')\n",
        "        fid.write('\\n'+'\\\\end{scope}'+'\\n')\n",
        "        fid.write('\\n\\n')\n",
        "\n",
        "        O = O + 1\n",
        "        ## SB r+1\n",
        "        fid.write('\\\\begin{scope}[yshift =' + str(- r * (NRow + HO))+' cm, xshift =' +str(O * (NCol + WO))+' cm]'+'\\n')\n",
        "        for i in range(NRow):\n",
        "            row = NRow - 1 - i\n",
        "            for j in range(NCol):\n",
        "                col = j\n",
        "                fid.write(CM[SB_x_v[(r+1)%TR,i,j], SB_y_v[(r+1)%TR,i,j]] + ' ('+str(col)+','+str(row)+') rectangle +(1,1);'+'\\n')\n",
        "        fid.write('\\\\draw (0,0) rectangle (' + str(NCol) + ',' + str(NRow) + ');' + '\\n')\n",
        "        for i in range(1, NRow):\n",
        "            fid.write('\\\\draw (' + str(0) + ',' + str(i) + ') rectangle (' + str(NCol) + ',' + str(0) + ');' + '\\n')\n",
        "        for i in range(1, NCol):\n",
        "            fid.write('\\\\draw (' + str(i) + ',' + str(0) + ') rectangle (' + str(0) + ',' + str(NRow) + ');' + '\\n')\n",
        "        fid.write('\\\\path (' + str(NCol//2) + ',' + str(NRow + 0.5) + ') node {\\\\scriptsize$\\\\SB^' + str((r+1)%TR) + '$};'+'\\n')\n",
        "        fid.write('\\n'+'\\\\end{scope}'+'\\n')\n",
        "        fid.write('\\n\\n')\n",
        "    ## Final\n",
        "    fid.write('\\\\begin{scope}[yshift =' + str(- TR * (NRow + HO) + HO)+' cm, xshift =' +str(2 * (NCol + WO))+' cm]'+'\\n')\n",
        "    fid.write(\n",
        "        '\\\\node[draw, thick, rectangle, text width=6.5cm, label={[shift={(-2.8,-0)}]\\\\footnotesize Config}] at (-7, 0) {' + '\\n'\n",
        "\t    '{\\\\footnotesize' + '\\n'\n",
        "\t    '$\\\\bullet~(\\\\varInitBL,~\\\\varInitRD)~=~(+' + str(ini_d1) + '~\\\\DoFF,~+' + str(ini_d2) + '~\\\\DoFB)~$' + '\\\\\\ \\n'\n",
        "\t    '$\\\\bullet~(\\\\varDoFBL,~\\\\varDoFRD,~\\\\varDoM)~=~(+' + \n",
        "        str(int(DoF_BL_v)) + '~\\\\DoFF,~+' + \n",
        "        str(int(DoF_RD_v)) + '~\\\\DoFB,~+' + \n",
        "        str(int(DoM_v )) + '~\\\\DoM)$' + '\\n'\n",
        "\t    '}' + '\\n'\n",
        "\t    '};' + '\\n'\n",
        "        )\n",
        "    fid.write('\\n'+'\\\\end{scope}'+'\\n')\n",
        "    fid.write('\\n\\n')\n",
        "    fid.write('\\\\end{tikzpicture}'+'\\n\\n'+'\\\\end{document}')\n",
        "    fid.close()\n",
        "    from os import system\n",
        "    system(\"pdflatex -output-directory='./' ./\" + outfile + \".tex\") "
      ]
    },
    {
      "cell_type": "code",
      "execution_count": 31,
      "metadata": {},
      "outputs": [
        {
          "name": "stderr",
          "output_type": "stream",
          "text": [
            "sh: pdflatex: command not found\n"
          ]
        }
      ],
      "source": [
        "#for i in range(5):\n",
        "#    fnp = m.modelName + \"_%d\" % (i) +'.sol'\n",
        "#    drawSol(fnp)\n",
        "fnp = m.modelName + '.sol'\n",
        "drawSol(fnp)"
      ]
    },
    {
      "cell_type": "code",
      "execution_count": 41,
      "metadata": {},
      "outputs": [
        {
          "data": {
            "text/plain": [
              "gurobipy.LinExpr"
            ]
          },
          "execution_count": 41,
          "metadata": {},
          "output_type": "execute_result"
        }
      ],
      "source": [
        "type(gp.quicksum(MC_x[0, :, 0]))"
      ]
    }
  ],
  "metadata": {
    "colab": {
      "collapsed_sections": [],
      "history_visible": true,
      "name": "MILP_2R.ipynb",
      "provenance": []
    },
    "kernelspec": {
      "display_name": "Python 3.10.6 64-bit",
      "language": "python",
      "name": "python3"
    },
    "language_info": {
      "codemirror_mode": {
        "name": "ipython",
        "version": 3
      },
      "file_extension": ".py",
      "mimetype": "text/x-python",
      "name": "python",
      "nbconvert_exporter": "python",
      "pygments_lexer": "ipython3",
      "version": "3.10.6"
    },
    "vscode": {
      "interpreter": {
        "hash": "aee8b7b246df8f9039afb4144a1f6fd8d2ca17a180786b69acc140d282b71a49"
      }
    }
  },
  "nbformat": 4,
  "nbformat_minor": 0
}
