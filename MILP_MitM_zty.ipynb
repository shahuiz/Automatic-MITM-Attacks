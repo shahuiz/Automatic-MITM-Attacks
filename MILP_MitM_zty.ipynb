{
 "cells": [
  {
   "cell_type": "code",
   "execution_count": 141,
   "metadata": {},
   "outputs": [],
   "source": [
    "import gurobipy as gp\n",
    "from gurobipy import GRB\n",
    "import numpy as np"
   ]
  },
  {
   "cell_type": "code",
   "execution_count": 142,
   "metadata": {},
   "outputs": [],
   "source": [
    "# AES parameters\n",
    "NROW = 4\n",
    "NCOL = 4\n",
    "NGRID = NROW * NCOL\n",
    "NBRANCH = NROW + 1     # AES MC branch number"
   ]
  },
  {
   "cell_type": "code",
   "execution_count": 143,
   "metadata": {},
   "outputs": [],
   "source": [
    "# variable declaration\n",
    "total_r = 7 # total round\n",
    "start = 4   # start round, start in {0,1,2,...,total_r-1}\n",
    "mid = 1  # meet in the middle round, mid in {0,1,2,...,total_r-1}, start != mid\n",
    "fwd = []    # forward rounds\n",
    "bwd = []    # backward rounds\n",
    "\n",
    "if start < mid:\n",
    "    fwd = list(range(start, mid))\n",
    "    bwd = list(range(mid + 1, total_r)) + list(range(0, start))\n",
    "else:\n",
    "    bwd = list(range(mid + 1, start))\n",
    "    fwd = list(range(start, total_r)) + list(range(0, mid))"
   ]
  },
  {
   "cell_type": "code",
   "execution_count": 144,
   "metadata": {},
   "outputs": [
    {
     "data": {
      "text/plain": [
       "<gurobi.Model Continuous instance model_4x4_7R_Start_r4_Meet_r1: 0 constrs, 0 vars, No parameter changes>"
      ]
     },
     "execution_count": 144,
     "metadata": {},
     "output_type": "execute_result"
    }
   ],
   "source": [
    "# Declare and initialize model\n",
    "m = gp.Model('model_%dx%d_%dR_Start_r%d_Meet_r%d' % (NROW, NCOL, total_r, start, mid))\n",
    "m"
   ]
  },
  {
   "cell_type": "code",
   "execution_count": 145,
   "metadata": {},
   "outputs": [],
   "source": [
    "# create Encode class to encode coloring scheme\n",
    "class CellEncode(object):\n",
    "    def __init__(self, x: gp.Var, y:gp.Var, z:gp.Var, w:gp.Var):\n",
    "        self.b = x\n",
    "        self.r = y\n",
    "        self.g = z\n",
    "        self.w = w\n",
    "        \n",
    "# define variables to represent state pattern\n",
    "full_state = np.ndarray(shape=(total_r, NROW, NCOL), dtype=CellEncode)\n",
    "for r in range(total_r):\n",
    "    for i in range(NROW):\n",
    "        for j in range(NCOL):\n",
    "            full_state[r, i, j] = CellEncode(\n",
    "                m.addVar(vtype=GRB.BINARY, name= \"R%d[%d,%d]_b\" %(r,i,j)),\n",
    "                m.addVar(vtype=GRB.BINARY, name= \"R%d[%d,%d]_r\" %(r,i,j)),\n",
    "                m.addVar(vtype=GRB.BINARY, name= \"R%d[%d,%d]_g\" %(r,i,j)),\n",
    "                m.addVar(vtype=GRB.BINARY, name= \"R%d[%d,%d]_w\" %(r,i,j))\n",
    "            )"
   ]
  },
  {
   "cell_type": "code",
   "execution_count": 146,
   "metadata": {},
   "outputs": [],
   "source": [
    "# assign and align variables for intermediate states\n",
    "S = np.ndarray(shape=(total_r, NROW, NCOL), dtype= CellEncode)  # store the SB state at each round\n",
    "M = np.ndarray(shape=(total_r, NROW, NCOL), dtype= CellEncode)  # store the MC state at each round\n",
    "\n",
    "S = full_state\n",
    "for r in range(total_r):\n",
    "    for i in range(NROW):\n",
    "        for j in range(NCOL):\n",
    "            M[r, i, j] = S[r, i, (j+i)%NCOL]    # match SB and MC through SR  "
   ]
  },
  {
   "cell_type": "code",
   "execution_count": 147,
   "metadata": {},
   "outputs": [],
   "source": [
    "# add grey and white constraints\n",
    "for r in range(total_r):\n",
    "    for i in range(NROW):\n",
    "        for j in range(NCOL):\n",
    "            m.addConstr(S[r,i,j].g == gp.and_(S[r,i,j].b, S[r,i,j].r))  # grey cell\n",
    "            m.addConstr(S[r,i,j].w - S[r,i,j].g + S[r,i,j].b + S[r,i,j].r == 1) # white cell "
   ]
  },
  {
   "cell_type": "code",
   "execution_count": 148,
   "metadata": {},
   "outputs": [],
   "source": [
    "# the degree of freedom at the starting position\n",
    "start_df_b = np.ndarray(shape = (NROW, NCOL), dtype = gp.Var)\n",
    "start_df_r = np.ndarray(shape = (NROW, NCOL), dtype = gp.Var)\n",
    "\n",
    "for i in range(NROW):\n",
    "    for j in range(NCOL):\n",
    "        start_df_b[i,j] = m.addVar(vtype=GRB.BINARY, name= \"StartDF[%d,%d]_b\" %(i,j))\n",
    "        start_df_r[i,j] = m.addVar(vtype=GRB.BINARY, name= \"StartDF[%d,%d]_r\" %(i,j))\n",
    "\n",
    "# consumed degree of freedom along corresponding direction\n",
    "consumed_fwd = np.ndarray(shape = (total_r, NCOL), dtype = gp.Var)\n",
    "consumed_bwd = np.ndarray(shape = (total_r, NCOL), dtype = gp.Var)\n",
    "\n",
    "for r in range(total_r):\n",
    "    for j in range(NCOL):\n",
    "        consumed_fwd = m.addVar(vtype=GRB.BINARY, name= \"R%dC%d_fwd\" %(r,j))\n",
    "        consumed_bwd = m.addVar(vtype=GRB.BINARY, name= \"R%dC%d_bwd\" %(r,j))\n",
    "\n",
    "# Intermediate values for computations on DoM\n",
    "match_col_df = np.empty(shape=(NCOL), dtype= gp.Var)\n",
    "for j in range(NCOL):\n",
    "    match_col_df[j] = m.addVar(lb=0, ub=NROW, vtype=GRB.INTEGER, name=\"MatchC\" + ('[%d]' % j))"
   ]
  },
  {
   "cell_type": "code",
   "execution_count": 149,
   "metadata": {},
   "outputs": [],
   "source": [
    "# declare variables relate to df\n",
    "final_df_b = m.addVar(lb=1, vtype=GRB.INTEGER, name=\"FinalDF_b\")\n",
    "final_df_r = m.addVar(lb=1, vtype=GRB.INTEGER, name=\"FinalDF_r\")\n",
    "match_df = m.addVar(lb=1, vtype=GRB.INTEGER, name=\"MatchDF\")\n",
    "obj = m.addVar(lb=1, vtype=GRB.INTEGER, name=\"Obj\")"
   ]
  },
  {
   "cell_type": "code",
   "execution_count": 150,
   "metadata": {},
   "outputs": [],
   "source": [
    "# declare column-wise indicator variables to encode MC rules\n",
    "class ColumnEncode(object):  \n",
    "    def __init__(self, x: gp.Var, y:gp.Var, z:gp.Var):\n",
    "        self.u = x\n",
    "        self.x = y\n",
    "        self.y = z\n",
    "\n",
    "S_col = np.ndarray(shape = (total_r, NCOL), dtype = ColumnEncode)\n",
    "M_col = np.ndarray(shape = (total_r, NCOL), dtype = ColumnEncode)\n",
    "\n",
    "for r in range(total_r):\n",
    "    for j in range(NCOL):\n",
    "        S_col[r, j] = ColumnEncode(\n",
    "            m.addVar(vtype=GRB.BINARY, name= \"R%dSB_C%d_u\" %(r,j)),\n",
    "            m.addVar(vtype=GRB.BINARY, name= \"R%dSB_C%d_x\" %(r,j)),\n",
    "            m.addVar(vtype=GRB.BINARY, name= \"R%dSB_C%d_y\" %(r,j)),\n",
    "        )\n",
    "\n",
    "        M_col[r, j] = ColumnEncode(\n",
    "            m.addVar(vtype=GRB.BINARY, name= \"R%dMC_C%d_u\" %(r,j)),\n",
    "            m.addVar(vtype=GRB.BINARY, name= \"R%dMC_C%d_x\" %(r,j)),\n",
    "            m.addVar(vtype=GRB.BINARY, name= \"R%dMC_C%d_y\" %(r,j)),\n",
    "        )"
   ]
  },
  {
   "cell_type": "code",
   "execution_count": 151,
   "metadata": {},
   "outputs": [],
   "source": [
    "def get_col(A: np.ndarray, cell: str):\n",
    "    result = []\n",
    "    for i in range(NROW):\n",
    "        if cell == 'b':\n",
    "            result.append(A[i].b)\n",
    "        if cell == 'r':\n",
    "            result.append(A[i].r)\n",
    "        if cell == 'w':\n",
    "            result.append(A[i].w)\n",
    "        if cell == 'g':\n",
    "            result.append(A[i].g)\n",
    "    return result\n"
   ]
  },
  {
   "cell_type": "code",
   "execution_count": 152,
   "metadata": {},
   "outputs": [],
   "source": [
    "# add constraints for column encoding\n",
    "for r in range(total_r):\n",
    "    for j in range(NCOL):\n",
    "        S_col[r, j].u = gp.max_(get_col(S[r,:,j], 'w'))   # if one input cell is white, the output column is marked by u = 1 (unknown)\n",
    "        S_col[r, j].x = gp.min_(get_col(S[r,:,j], 'b'))   # if all cells are known for fwd computation, marked by x = 1\n",
    "        S_col[r, j].y = gp.min_(get_col(S[r,:,j], 'r'))   # if all cells are known for fwd computation, marked by y = 1\n",
    "\n",
    "        M_col[r, j].u = gp.max_(get_col(M[r,:,j], 'w'))   # if one input cell is white, the output column is marked by u = 1 (unknown)\n",
    "        M_col[r, j].x = gp.min_(get_col(M[r,:,j], 'b'))   # if all cells are known for fwd computation, marked by x = 1\n",
    "        M_col[r, j].y = gp.min_(get_col(M[r,:,j], 'r'))   # if all cells are known for fwd computation, marked by y = 1"
   ]
  },
  {
   "cell_type": "code",
   "execution_count": 153,
   "metadata": {},
   "outputs": [],
   "source": [
    "# generate MC rule, calculate the consumed df for both fwd and bwd\n",
    "def gen_MC_rule(input: np.ndarray, input_col: ColumnEncode, output: np.ndarray, fwd: gp.Var, bwd: gp.Var):\n",
    "    m.addConstr(NROW*input_col.u + gp.quicksum(get_col(output, 'b')) <= NROW)\n",
    "    m.addConstr(gp.quicksum(get_col(input, 'b')) + gp.quicksum(get_col(output, 'b')) - NBRANCH*input_col.x <= 3)\n",
    "    m.addConstr(gp.quicksum(get_col(input, 'b')) + gp.quicksum(get_col(output, 'b')) - 2*NROW*input_col.x >= 0)\n",
    "\n",
    "    m.addConstr(NROW*input_col.u + gp.quicksum(get_col(output, 'r')) <= NROW)\n",
    "    m.addConstr(gp.quicksum(get_col(input, 'r')) + gp.quicksum(get_col(output, 'r')) - NBRANCH*input_col.y <= 3)\n",
    "    m.addConstr(gp.quicksum(get_col(input, 'r')) + gp.quicksum(get_col(output, 'r')) - 2*NROW*input_col.y >= 0)\n",
    "\n",
    "    m.addConstr(gp.quicksum(get_col(input, 'b')) - NROW*input_col.x - fwd == 0)\n",
    "    m.addConstr(gp.quicksum(get_col(input, 'r')) - NROW*input_col.y - bwd == 0)"
   ]
  },
  {
   "cell_type": "code",
   "execution_count": 154,
   "metadata": {},
   "outputs": [],
   "source": [
    "# generate match rule, calculate the degree of matching of each column\n",
    "def gen_match_rule(input: np.ndarray, output: np.ndarray, match: gp.Var):\n",
    "    m.addConstr(match = gp.max_(0, (\n",
    "        gp.quicksum(get_col(input, 'b')) + gp.quicksum(get_col(input, 'r')) - gp.quicksum(get_col(input, 'g')) +\n",
    "        gp.quicksum(get_col(output, 'b')) + gp.quicksum(get_col(output, 'r')) - gp.quicksum(get_col(output, 'g')) - NROW))\n",
    "    )"
   ]
  },
  {
   "cell_type": "code",
   "execution_count": 155,
   "metadata": {},
   "outputs": [],
   "source": [
    "# set objective function: argmax obj = min{final_df_b, final_df_r, match_df}\n",
    "def gen_objective():\n",
    "    m.addConstr(final_df_b - gp.quicksum(start_df_b.flatten()) + gp.quicksum(consumed_fwd.flatten()) == 0)\n",
    "    m.addConstr(final_df_r - gp.quicksum(start_df_r.flatten()) + gp.quicksum(consumed_bwd.flatten()) == 0)\n",
    "    m.addConstr(match_df - gp.quicksum(match_col_df.flatten()) == 0)\n",
    "    m.addConstr(obj - final_df_b <= 0)\n",
    "    m.addConstr(obj - final_df_r <= 0)\n",
    "    m.addConstr(obj - match_df <= 0)\n",
    "    m.setObjective(obj, GRB.MAXIMIZE)"
   ]
  },
  {
   "cell_type": "code",
   "execution_count": 156,
   "metadata": {},
   "outputs": [],
   "source": [
    "def fomulation():\n",
    "    # start round: no unknowns\n",
    "    for i in range(NROW):\n",
    "        for j in range(NCOL):\n",
    "            m.addConstr(S[start, i, j].b + S[start, i, j].r >= 1)\n",
    "            m.addConstr(start_df_b[i, j] + S[start, i, j].r == 1)\n",
    "            m.addConstr(start_df_r[i, j] + S[start, i, j].b == 1)\n",
    "    \n",
    "    # intermediate rounds: \n",
    "    for r in range(1, total_r-1):\n",
    "        nr = (r+1) % total_r\n",
    "        if r in fwd:\n",
    "            for j in range(NCOL):\n",
    "                gen_MC_rule(input= M[r,:,j], input_col= M_col[r,j], output= S[nr,:,j], fwd= consumed_fwd[r], bwd= consumed_bwd[r])\n",
    "        if r in bwd:\n",
    "            for j in range(NCOL):\n",
    "                gen_MC_rule(input= S[nr,:,j], input_col= S_col[nr,j], output= M[r,:,j], fwd= consumed_fwd[r], bwd= consumed_bwd[r])\n",
    "    \n",
    "    # last round:\n",
    "    for j in range(NCOL):\n",
    "        m.addConstr(consumed_fwd[total_r,j] == 0)\n",
    "        m.addConstr(consumed_bwd[total_r,j] == 0)\n",
    "        # jump the MC for last round\n",
    "        for i in range(NROW):\n",
    "            m.addConstr(M[total_r, i, j].b - S[0, i, j].b == 0)\n",
    "            m.addConstr(M[total_r, i, j].r - S[0, i, j].r == 0)\n",
    "\n",
    "    # match round:\n",
    "    nmid = (mid + 1) % total_r\n",
    "    for j in range(NCOL):\n",
    "        gen_match_rule(input= M[mid,:,j], output= S[nmid,:,j], match= match_col_df)\n",
    "        m.addConstr(consumed_fwd[mid, j] == 0)\n",
    "        m.addConstr(consumed_bwd[mid, j] == 0)\n",
    "    \n",
    "    gen_objective()\n",
    "    m.update()\n",
    "    m.write(m.modelName + '.lp' )"
   ]
  },
  {
   "cell_type": "code",
   "execution_count": 157,
   "metadata": {},
   "outputs": [],
   "source": [
    "def writeSol():\n",
    "    if m.SolCount > 0:\n",
    "        if m.getParamInfo(GRB.Param.PoolSearchMode)[2] > 0:\n",
    "            gv = m.getVars()\n",
    "            names = m.getAttr('VarName', gv)\n",
    "            for i in range(m.SolCount):\n",
    "                m.params.SolutionNumber = i\n",
    "                xn = m.getAttr('Xn', gv)\n",
    "                lines = [\"{} {}\".format(v1, v2) for v1, v2 in zip(names, xn)]\n",
    "                with open('{}_{}.sol'.format(m.modelName, i), 'w') as f:\n",
    "                    f.write(\"# Solution for model {}\\n\".format(m.modelName))\n",
    "                    f.write(\"# Objective value = {}\\n\".format(m.PoolObjVal))\n",
    "                    f.write(\"\\n\".join(lines))\n",
    "        else:\n",
    "            m.write(m.modelName + '.sol')\n",
    "    else:\n",
    "        print('infeasible')"
   ]
  },
  {
   "cell_type": "code",
   "execution_count": 158,
   "metadata": {},
   "outputs": [
    {
     "name": "stdout",
     "output_type": "stream",
     "text": [
      "Gurobi Optimizer version 9.5.2 build v9.5.2rc0 (mac64[x86])\n",
      "Thread count: 10 physical cores, 20 logical processors, using up to 20 threads\n",
      "Optimize a model with 112 rows, 712 columns and 448 nonzeros\n",
      "Model fingerprint: 0x11a41586\n",
      "Model has 112 general constraints\n",
      "Variable types: 0 continuous, 712 integer (704 binary)\n",
      "Coefficient statistics:\n",
      "  Matrix range     [1e+00, 1e+00]\n",
      "  Objective range  [0e+00, 0e+00]\n",
      "  Bounds range     [1e+00, 4e+00]\n",
      "  RHS range        [1e+00, 1e+00]\n",
      "Presolve removed 112 rows and 712 columns\n",
      "Presolve time: 0.00s\n",
      "Presolve: All rows and columns removed\n",
      "\n",
      "Explored 0 nodes (0 simplex iterations) in 0.00 seconds (0.00 work units)\n",
      "Thread count was 1 (of 20 available processors)\n",
      "\n",
      "Solution count 1: 0 \n",
      "\n",
      "Optimal solution found (tolerance 1.00e-04)\n",
      "Best objective 0.000000000000e+00, best bound 0.000000000000e+00, gap 0.0000%\n"
     ]
    }
   ],
   "source": [
    "m.optimize()\n",
    "writeSol()"
   ]
  }
 ],
 "metadata": {
  "kernelspec": {
   "display_name": "Python 3.10.6 64-bit",
   "language": "python",
   "name": "python3"
  },
  "language_info": {
   "codemirror_mode": {
    "name": "ipython",
    "version": 3
   },
   "file_extension": ".py",
   "mimetype": "text/x-python",
   "name": "python",
   "nbconvert_exporter": "python",
   "pygments_lexer": "ipython3",
   "version": "3.10.6"
  },
  "orig_nbformat": 4,
  "vscode": {
   "interpreter": {
    "hash": "aee8b7b246df8f9039afb4144a1f6fd8d2ca17a180786b69acc140d282b71a49"
   }
  }
 },
 "nbformat": 4,
 "nbformat_minor": 2
}
