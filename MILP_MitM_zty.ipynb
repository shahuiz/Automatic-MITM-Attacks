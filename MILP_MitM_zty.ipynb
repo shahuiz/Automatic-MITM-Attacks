{
 "cells": [
  {
   "cell_type": "code",
   "execution_count": 1,
   "metadata": {},
   "outputs": [],
   "source": [
    "import gurobipy as gp\n",
    "from gurobipy import GRB\n",
    "import numpy as np"
   ]
  },
  {
   "cell_type": "code",
   "execution_count": 2,
   "metadata": {},
   "outputs": [],
   "source": [
    "# AES parameters\n",
    "NROW = 4\n",
    "NCOL = 4\n",
    "NGRID = NROW * NCOL\n",
    "NBRANCH = NROW + 1     # AES MC branch number"
   ]
  },
  {
   "cell_type": "code",
   "execution_count": 3,
   "metadata": {},
   "outputs": [],
   "source": [
    "# variable declaration\n",
    "total_r = 7 # total round\n",
    "start = 4   # start round, start in {0,1,2,...,total_r-1}\n",
    "middle = 1  # meet in the middle round, middle in {0,1,2,...,total_r-1}, start != middle\n",
    "fwd = []    # forward rounds\n",
    "bwd = []    # backward rounds\n",
    "\n",
    "if start < middle:\n",
    "    fwd = list(range(start, middle))\n",
    "    bwd = list(range(middle + 1, total_r)) + list(range(0, start))\n",
    "else:\n",
    "    bwd = list(range(middle + 1, start))\n",
    "    fwd = list(range(start, total_r)) + list(range(0, middle))"
   ]
  },
  {
   "cell_type": "code",
   "execution_count": 4,
   "metadata": {},
   "outputs": [
    {
     "name": "stdout",
     "output_type": "stream",
     "text": [
      "Restricted license - for non-production use only - expires 2023-10-25\n"
     ]
    },
    {
     "data": {
      "text/plain": [
       "<gurobi.Model Continuous instance model_4x4_7R_Start_r4_Meet_r1: 0 constrs, 0 vars, No parameter changes>"
      ]
     },
     "execution_count": 4,
     "metadata": {},
     "output_type": "execute_result"
    }
   ],
   "source": [
    "# Declare and initialize model\n",
    "m = gp.Model('model_%dx%d_%dR_Start_r%d_Meet_r%d' % (NROW, NCOL, total_r, start, middle))\n",
    "m"
   ]
  },
  {
   "cell_type": "code",
   "execution_count": 5,
   "metadata": {},
   "outputs": [],
   "source": [
    "# create Encode class to encode coloring scheme\n",
    "class Encode(object):\n",
    "    def __init__(self, x: gp.Var, y:gp.Var, z:gp.Var, w:gp.Var):\n",
    "        self.b = x\n",
    "        self.r = y\n",
    "        self.g = z\n",
    "        self.w = z\n",
    "\n",
    "# define variables to represent state pattern\n",
    "full_state = np.ndarray(shape=(total_r, NROW, NCOL), dtype=Encode)\n",
    "for r in range(total_r):\n",
    "    for i in range(NROW):\n",
    "        for j in range(NCOL):\n",
    "            full_state[r, i, j] = Encode(\n",
    "                m.addVar(vtype=GRB.BINARY, name= \"R%d[%d,%d]_b\" %(r,i,j)),\n",
    "                m.addVar(vtype=GRB.BINARY, name= \"R%d[%d,%d]_r\" %(r,i,j)),\n",
    "                m.addVar(vtype=GRB.BINARY, name= \"R%d[%d,%d]_g\" %(r,i,j)),\n",
    "                m.addVar(vtype=GRB.BINARY, name= \"R%d[%d,%d]_w\" %(r,i,j))\n",
    "            )"
   ]
  },
  {
   "cell_type": "code",
   "execution_count": 6,
   "metadata": {},
   "outputs": [],
   "source": [
    "S = np.ndarray(shape=(total_r, NROW, NCOL), dtype= Encode)  # store the SB state at each round\n",
    "M = np.ndarray(shape=(total_r, NROW, NCOL), dtype= Encode)  # store the MC state at each round\n",
    "\n",
    "S = full_state\n",
    "for r in range(total_r):\n",
    "    for i in range(NROW):\n",
    "        for j in range(NCOL):\n",
    "            M[r, i, j] = S[r, i, (j+i)%NCOL]    # match SB and MC through SR  "
   ]
  },
  {
   "cell_type": "code",
   "execution_count": 7,
   "metadata": {},
   "outputs": [],
   "source": [
    "# add grey and white constraints\n",
    "for r in range(total_r):\n",
    "    for i in range(NROW):\n",
    "        for j in range(NCOL):\n",
    "            m.addConstr(S[r,i,j].g == gp.and_(S[r,i,j].b, S[r,i,j].r))  # grey cell\n",
    "            m.addConstr(S[r,i,j].w - S[r,i,j].g + S[r,i,j].b + S[r,i,j].r == 1) # white cell "
   ]
  },
  {
   "cell_type": "code",
   "execution_count": 8,
   "metadata": {},
   "outputs": [],
   "source": [
    "# the degree of freedom at the starting position\n",
    "start_df_b = np.ndarray(shape = (NROW, NCOL), dtype = gp.Var)\n",
    "start_df_r = np.ndarray(shape = (NROW, NCOL), dtype = gp.Var)\n",
    "\n",
    "for i in range(NROW):\n",
    "    for j in range(NCOL):\n",
    "        start_df_b = m.addVar(vtype=GRB.BINARY, name= \"StartDF[%d,%d]_b\" %(i,j))\n",
    "        start_df_r = m.addVar(vtype=GRB.BINARY, name= \"StartDF[%d,%d]_r\" %(i,j))\n",
    "\n",
    "# consumed degree of freedom along corresponding direction\n",
    "consume_fwd = np.ndarray(shape = (total_r, NCOL), dtype = gp.Var)\n",
    "consume_bwd = np.ndarray(shape = (total_r, NCOL), dtype = gp.Var)\n",
    "\n",
    "for r in range(total_r):\n",
    "    for j in range(NCOL):\n",
    "        consume_fwd = m.addVar(vtype=GRB.BINARY, name= \"R%dC%d_fwd\" %(r,j))\n",
    "        consume_bwd = m.addVar(vtype=GRB.BINARY, name= \"R%dC%d_bwd\" %(r,j))\n",
    "\n",
    "# Intermediate values for computations on DoM\n",
    "MT_n = np.empty(shape=(NCOL), dtype= gp.Var)\n",
    "MT_m = np.empty(shape=(NCOL), dtype= gp.Var)\n",
    "for j in range(NCOL):\n",
    "    MT_n[j] = m.addVar(lb=-NROW, ub=NROW, name=\"MT_n_c\" + ('[%d]' % j))\n",
    "    MT_m[j] = m.addVar(lb=0, ub=NROW, vtype=GRB.INTEGER, name=\"MT_m_c\" + ('[%d]' % j))"
   ]
  },
  {
   "cell_type": "code",
   "execution_count": 9,
   "metadata": {},
   "outputs": [],
   "source": [
    "final_df_b = m.addVar(lb=1, vtype=GRB.INTEGER, name=\"FinalDF_b\")\n",
    "final_df_r = m.addVar(lb=1, vtype=GRB.INTEGER, name=\"FinalDF_r\")\n",
    "match_df = m.addVar(lb=1, vtype=GRB.INTEGER, name=\"MatchDF\")\n",
    "obj = m.addVar(lb=1, vtype=GRB.INTEGER, name=\"Obj\")"
   ]
  },
  {
   "cell_type": "code",
   "execution_count": null,
   "metadata": {},
   "outputs": [],
   "source": []
  }
 ],
 "metadata": {
  "kernelspec": {
   "display_name": "Python 3.10.6 64-bit",
   "language": "python",
   "name": "python3"
  },
  "language_info": {
   "codemirror_mode": {
    "name": "ipython",
    "version": 3
   },
   "file_extension": ".py",
   "mimetype": "text/x-python",
   "name": "python",
   "nbconvert_exporter": "python",
   "pygments_lexer": "ipython3",
   "version": "3.10.6"
  },
  "orig_nbformat": 4,
  "vscode": {
   "interpreter": {
    "hash": "aee8b7b246df8f9039afb4144a1f6fd8d2ca17a180786b69acc140d282b71a49"
   }
  }
 },
 "nbformat": 4,
 "nbformat_minor": 2
}
